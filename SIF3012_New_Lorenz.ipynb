{
  "nbformat": 4,
  "nbformat_minor": 0,
  "metadata": {
    "colab": {
      "provenance": [],
      "authorship_tag": "ABX9TyN9S+XYOxFxXqHtbq4dXFoG",
      "include_colab_link": true
    },
    "kernelspec": {
      "name": "python3",
      "display_name": "Python 3"
    },
    "language_info": {
      "name": "python"
    }
  },
  "cells": [
    {
      "cell_type": "markdown",
      "metadata": {
        "id": "view-in-github",
        "colab_type": "text"
      },
      "source": [
        "<a href=\"https://colab.research.google.com/github/u2004803/SIF3012-Computing-Assignment/blob/main/SIF3012_New_Lorenz.ipynb\" target=\"_parent\"><img src=\"https://colab.research.google.com/assets/colab-badge.svg\" alt=\"Open In Colab\"/></a>"
      ]
    },
    {
      "cell_type": "markdown",
      "source": [
        "#Simulation of Chaotic Behaviour of General Circulation using Lorenz Attractor with Runge-Kutta 4th Model\n",
        "\n",
        "This project aims to perform simulation of the chaotic behaviour of the general atmospheric circulation using Lorenz Attractor, where the Lorenz Attractor will be attained using Runge-Kutta 4th Model. There are 3 concepts required to be understood for the simulation:\n",
        "\n",
        "1. Runge Kutta 4th-Order Method\n",
        "2. Lorenz System\n",
        "3. Lorenz System in General Atmospheric Circulation"
      ],
      "metadata": {
        "id": "57aQwxHw0_Qq"
      }
    },
    {
      "cell_type": "markdown",
      "source": [
        "#1. Runge-Kutta 4th-Order Method\n",
        "\n",
        "Runge-Kutta is a numerical method employed to solve first-order ordinary differential equations (ODE) at high accuracy while avoid tedious calculations. Runge-Kutta method coordinates with Taylor Series up to the term in $h_r$ where r varies from method to method provides approximate value of y at a given point x.\n",
        "\n",
        "For Runge-Kutta 4th-order method (RK4), the general equation is provided as:\n",
        "\n",
        "$y_{i+1}$ = $y_i$ + $\\frac{1}{6}$$(k_1 + 2k_2 + 2k_3 + k_4)$\n",
        "\n",
        "Where\n",
        "\n",
        "k1 : $hf(x_i,y_i)$\n",
        "\n",
        "k2 : $hf(x_i + (\\frac{1}{2})h,y_i + (\\frac{1}{2})k_1)$\n",
        "\n",
        "k3 : $hf(x_i + (\\frac{1}{2})h,y_i + (\\frac{1}{2})k_2)$\n",
        "\n",
        "k4 : $hf(x_i + h,y_i + k_3)$"
      ],
      "metadata": {
        "id": "LlRBXDbS1AMQ"
      }
    },
    {
      "cell_type": "markdown",
      "source": [
        "#2. Lorenz System\n",
        "\n",
        "Lorenz system is a system of Ordinary Differential Equations(ODE), which has characteristics of having chaotic solutions with different parameter value and initial conditions.\n",
        "\n",
        "\n",
        "Lorenz system was first studied and demonstrated Edward Lorenz in 1963 in the process of developing numerical simulations for simplified mathematical model for atmospheric convection.\n",
        "\n",
        "For a 3D-space, Lorenz system can be differentiated into 3 differential equations to account for each dimensional axis with respect to their time evolution as stated below:\n",
        "\n",
        "$\\frac{dx}{dt} = σ(y-x)$\n",
        "\n",
        "$\\frac{dy}{dt} = x(\\rho - z) - y$\n",
        "\n",
        "$\\frac{dz}{dt} = xy - \\beta z$\n",
        "\n",
        "Where $\\sigma,  \\rho$  and $\\phi$ are parameter values for the system, proportional to the Prandtl number, Rayleigh number, and certain physical dimensions of the layer itself\n",
        "\n",
        "The code below will showcase the simulation of Lorenz system and showing its chaotic characteristics under different initial conditions and parametric values"
      ],
      "metadata": {
        "id": "pRXOb38V1Bwm"
      }
    },
    {
      "cell_type": "code",
      "execution_count": null,
      "metadata": {
        "id": "-ul18ixmgSAi"
      },
      "outputs": [],
      "source": [
        "#Importing Library\n",
        "%matplotlib inline\n",
        "from ipywidgets import interactive\n",
        "import matplotlib.pyplot as plt\n",
        "from mpl_toolkits import mplot3d\n",
        "import matplotlib.pyplot as plt\n",
        "import numpy as np"
      ]
    },
    {
      "cell_type": "code",
      "source": [
        "#Lorenz system for 3D Catesian Coordinates system\n",
        "def fx(x,y,z,t,s):\n",
        "    dxdt=s*(y-x)\n",
        "    return dxdt\n",
        "\n",
        "def fy(x,y,z,t,r):\n",
        "    dydt=x*(r-z)-y\n",
        "    return dydt\n",
        "\n",
        "def fz(x,y,z,t,b):\n",
        "    dzdt=x*y-b*z\n",
        "    return dzdt"
      ],
      "metadata": {
        "id": "dbZyXOsTgWx2"
      },
      "execution_count": null,
      "outputs": []
    },
    {
      "cell_type": "code",
      "source": [
        "#To perform of Runge-Kutta Method, we need term k1, k2, k3, k4 for each dimensional axis (x, y, z)\n",
        "def RungeKutta4(x,y,z,fx,fy,fz,t,h,s,r,b):\n",
        "    #Working for k1\n",
        "    k1x = h*fx(x,y,z,t,s)\n",
        "    k1y = h*fy(x,y,z,t,r)\n",
        "    k1z = h*fz(x,y,z,t,b)\n",
        "\n",
        "    #Working for k2\n",
        "    k2x = h*fx(x+k1x/2,y+k1y/2,z+k1z/2,t+h/2,s)\n",
        "    k2y = h*fy(x+k1x/2,y+k1y/2,z+k1z/2,t+h/2,r)\n",
        "    k2z = h*fz(x+k1x/2,y+k1y/2,z+k1z/2,t+h/2,b)\n",
        "    \n",
        "    \n",
        "    #Working for k3\n",
        "    k3x = h*fx(x+k2x/2,y+k2y/2,z+k2z/2,t+h/2,s)\n",
        "    k3y = h*fy(x+k2x/2,y+k2y/2,z+k2z/2,t+h/2,r)\n",
        "    k3z = h*fz(x+k2x/2,y+k2y/2,z+k2z/2,t+h/2,b)\n",
        "\n",
        "    #Working for k3\\4\n",
        "    k4x = h*fx(x+k3x,y+k3y,z+k3z,t+h,s)\n",
        "    k4y = h*fy(x+k3x,y+k3y,z+k3z,t+h,r)\n",
        "    k4z = h*fz(x+k3x,y+k3y,z+k3z,t+h,b)\n",
        "\n",
        "    #Return in the form of general equation for 3D\n",
        "    return x+(k1x+2*k2x+2*k3x+k4x)/6, y+(k1y+2*k2y+2*k3y+k4y)/6, z+(k1z+2*k2z+2*k3z+k4z)/6"
      ],
      "metadata": {
        "id": "ZbBU8UiQgaem"
      },
      "execution_count": null,
      "outputs": []
    },
    {
      "cell_type": "markdown",
      "source": [
        "Here the symbol were explained as below:\n",
        "\n",
        "$σ$ : sigma\n",
        "\n",
        "$β$ : beta\n",
        "\n",
        "$ρ$ : rho\n",
        "\n",
        "Now we showcase the effect of initial conditions and parametric value towards the evolution of the Lorenz Model"
      ],
      "metadata": {
        "id": "A1LyE3Gv1FEQ"
      }
    },
    {
      "cell_type": "code",
      "source": [
        "def sim(sigma, beta, rho, t):\n",
        "  #Defining parametric values\n",
        "  \n",
        "  tIn   = 0.        #Initial step value\n",
        "  tFin  = float(t)  #Final step value\n",
        "  h     = 0.01      #Step increment value\n",
        "  totalSteps = int(np.floor((tFin-tIn)/h))    #Calculation of total number of steps\n",
        "\n",
        "  #Generate arrays of complete 0 value\n",
        "  t  = totalSteps * [0.0]\n",
        "  x = totalSteps * [0.0]\n",
        "  y = totalSteps * [0.0]\n",
        "  z = totalSteps * [0.0]\n",
        "  s = sigma\n",
        "  b = beta\n",
        "  r = rho\n",
        "  x[0],y[0],z[0],t[0] = 1., 1., 1., 0.  #Defining initial values for Lorenz System\n",
        "\n",
        "  #Iterations of Runge-Kutta 4th-Order Method to solve for Lorenz Model\n",
        "  for i in range(1, totalSteps):\n",
        "    x[i],y[i],z[i] = RungeKutta4(x[i-1],y[i-1],z[i-1], fx,fy,fz, t[i-1], h, s,r,b)\n",
        "\n",
        "  \n",
        "  fig = plt.figure(figsize = (10,10))\n",
        "  ax = plt.axes(projection='3d')\n",
        "  ax.plot3D(x, y, z, label = \"Lorenz 3D Solution\")\n",
        "  ax.set_title('Simulation of Lorenz System')\n",
        "\n",
        "  # Set axes label\n",
        "  ax.set_xlabel('x', labelpad=20)\n",
        "  ax.set_ylabel('y', labelpad=20)\n",
        "  ax.set_zlabel('z', labelpad=20)\n",
        "  plt.show()"
      ],
      "metadata": {
        "id": "P8AXWUO-gfeH"
      },
      "execution_count": null,
      "outputs": []
    },
    {
      "cell_type": "code",
      "source": [
        "interactive(sim, sigma = (0,50.0,0.1), beta = (0,10.0,0.1), rho = (0, 50.0, 0.1), t = (0, 60.00, 0.01))"
      ],
      "metadata": {
        "colab": {
          "base_uri": "https://localhost:8080/",
          "height": 305
        },
        "id": "TxqFcfuygu1-",
        "outputId": "f7fd1cec-f498-4a10-f320-2b0a1761fd07"
      },
      "execution_count": null,
      "outputs": [
        {
          "output_type": "error",
          "ename": "NameError",
          "evalue": "ignored",
          "traceback": [
            "\u001b[0;31m---------------------------------------------------------------------------\u001b[0m",
            "\u001b[0;31mNameError\u001b[0m                                 Traceback (most recent call last)",
            "\u001b[0;32m<ipython-input-1-9b2facf0616d>\u001b[0m in \u001b[0;36m<module>\u001b[0;34m\u001b[0m\n\u001b[0;32m----> 1\u001b[0;31m \u001b[0minteractive\u001b[0m\u001b[0;34m(\u001b[0m\u001b[0msim\u001b[0m\u001b[0;34m,\u001b[0m \u001b[0msigma\u001b[0m \u001b[0;34m=\u001b[0m \u001b[0;34m(\u001b[0m\u001b[0;36m0\u001b[0m\u001b[0;34m,\u001b[0m\u001b[0;36m50.0\u001b[0m\u001b[0;34m,\u001b[0m\u001b[0;36m0.1\u001b[0m\u001b[0;34m)\u001b[0m\u001b[0;34m,\u001b[0m \u001b[0mbeta\u001b[0m \u001b[0;34m=\u001b[0m \u001b[0;34m(\u001b[0m\u001b[0;36m0\u001b[0m\u001b[0;34m,\u001b[0m\u001b[0;36m10.0\u001b[0m\u001b[0;34m,\u001b[0m\u001b[0;36m0.1\u001b[0m\u001b[0;34m)\u001b[0m\u001b[0;34m,\u001b[0m \u001b[0mrho\u001b[0m \u001b[0;34m=\u001b[0m \u001b[0;34m(\u001b[0m\u001b[0;36m0\u001b[0m\u001b[0;34m,\u001b[0m \u001b[0;36m50.0\u001b[0m\u001b[0;34m,\u001b[0m \u001b[0;36m0.1\u001b[0m\u001b[0;34m)\u001b[0m\u001b[0;34m,\u001b[0m \u001b[0mt\u001b[0m \u001b[0;34m=\u001b[0m \u001b[0;34m(\u001b[0m\u001b[0;36m0\u001b[0m\u001b[0;34m,\u001b[0m \u001b[0;36m60.00\u001b[0m\u001b[0;34m,\u001b[0m \u001b[0;36m0.01\u001b[0m\u001b[0;34m)\u001b[0m\u001b[0;34m)\u001b[0m\u001b[0;34m\u001b[0m\u001b[0;34m\u001b[0m\u001b[0m\n\u001b[0m",
            "\u001b[0;31mNameError\u001b[0m: name 'interactive' is not defined"
          ]
        }
      ]
    }
  ]
}