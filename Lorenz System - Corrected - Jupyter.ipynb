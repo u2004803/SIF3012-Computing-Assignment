{
 "cells": [
  {
   "cell_type": "raw",
   "metadata": {},
   "source": []
  },
  {
   "cell_type": "code",
   "execution_count": 3,
   "metadata": {},
   "outputs": [
    {
     "data": {
      "application/vnd.jupyter.widget-view+json": {
       "model_id": "a815910bc36640e59cbf50c5a9c4ea8c",
       "version_major": 2,
       "version_minor": 0
      },
      "text/plain": [
       "interactive(children=(FloatSlider(value=25.0, description='sigma', max=50.0), FloatSlider(value=5.0, descripti…"
      ]
     },
     "execution_count": 3,
     "metadata": {},
     "output_type": "execute_result"
    }
   ],
   "source": [
    "#Importing Library\n",
    "%matplotlib inline\n",
    "from ipywidgets import interactive\n",
    "import matplotlib.pyplot as plt\n",
    "from mpl_toolkits import mplot3d\n",
    "import matplotlib.pyplot as plt\n",
    "import numpy as np\n",
    "\n",
    "\n",
    "#Lorenz system for 3D Catesian Coordinates system\n",
    "def fx(x,y,z,t,s):\n",
    "    dxdt=s*(y-x)\n",
    "    return dxdt\n",
    "\n",
    "def fy(x,y,z,t,r):\n",
    "    dydt=x*(r-z)-y\n",
    "    return dydt\n",
    "\n",
    "def fz(x,y,z,t,b):\n",
    "    dzdt=x*y-b*z\n",
    "    return dzdt\n",
    "    \n",
    "    \n",
    "\n",
    "#To perform of Runge-Kutta Method, we need term k1, k2, k3, k4 for each dimensional axis (x, y, z)\n",
    "def RungeKutta4(x,y,z,fx,fy,fz,t,h,s,r,b):\n",
    "    #Working for k1\n",
    "    k1x = h*fx(x,y,z,t,s)\n",
    "    k1y = h*fy(x,y,z,t,r)\n",
    "    k1z = h*fz(x,y,z,t,b)\n",
    "\n",
    "    #Working for k2\n",
    "    k2x = h*fx(x+k1x/2,y+k1y/2,z+k1z/2,t+h/2,s)\n",
    "    k2y = h*fy(x+k1x/2,y+k1y/2,z+k1z/2,t+h/2,r)\n",
    "    k2z = h*fz(x+k1x/2,y+k1y/2,z+k1z/2,t+h/2,b)\n",
    "    \n",
    "    \n",
    "    #Working for k3\n",
    "    k3x = h*fx(x+k2x/2,y+k2y/2,z+k2z/2,t+h/2,s)\n",
    "    k3y = h*fy(x+k2x/2,y+k2y/2,z+k2z/2,t+h/2,r)\n",
    "    k3z = h*fz(x+k2x/2,y+k2y/2,z+k2z/2,t+h/2,b)\n",
    "\n",
    "    #Working for k3\\4\n",
    "    k4x = h*fx(x+k3x,y+k3y,z+k3z,t+h,s)\n",
    "    k4y = h*fy(x+k3x,y+k3y,z+k3z,t+h,r)\n",
    "    k4z = h*fz(x+k3x,y+k3y,z+k3z,t+h,b)\n",
    "\n",
    "    #Return in the form of general equation for 3D\n",
    "    return x+(k1x+2*k2x+2*k3x+k4x)/6, y+(k1y+2*k2y+2*k3y+k4y)/6, z+(k1z+2*k2z+2*k3z+k4z)/6\n",
    "\n",
    "\n",
    "def sim(sigma, beta, rho, t):\n",
    "  #Defining parametric values\n",
    "  \n",
    "  tIn   = 0.        #Initial step value\n",
    "  tFin  = float(t)  #Final step value\n",
    "  h     = 0.01      #Step increment value\n",
    "  totalSteps = int(np.floor((tFin-tIn)/h))    #Calculation of total number of steps\n",
    "\n",
    "  #Generate arrays of complete 0 value\n",
    "  t  = totalSteps * [0.0]\n",
    "  x = totalSteps * [0.0]\n",
    "  y = totalSteps * [0.0]\n",
    "  z = totalSteps * [0.0]\n",
    "  s = sigma\n",
    "  b = beta\n",
    "  r = rho\n",
    "  x[0],y[0],z[0],t[0] = 1., 1., 1., 0.  #Defining initial values for Lorenz System\n",
    "\n",
    "  #Iterations of Runge-Kutta 4th-Order Method to solve for Lorenz Model\n",
    "  for i in range(1, totalSteps):\n",
    "    x[i],y[i],z[i] = RungeKutta4(x[i-1],y[i-1],z[i-1], fx,fy,fz, t[i-1], h, s,r,b)\n",
    "\n",
    "  \n",
    "  fig = plt.figure(figsize = (10,10))\n",
    "  ax = plt.axes(projection='3d')\n",
    "  ax.plot3D(x, y, z, label = \"Lorenz 3D Solution\")\n",
    "  ax.set_title('Simulation of Lorenz System')\n",
    "\n",
    "  # Set axes label\n",
    "  ax.set_xlabel('x', labelpad=20)\n",
    "  ax.set_ylabel('y', labelpad=20)\n",
    "  ax.set_zlabel('z', labelpad=20)\n",
    "  plt.show()\n",
    "\n",
    "\n",
    "interactive(sim, sigma = (0,50.0,0.1), beta = (0,10.0,0.1), rho = (0, 50.0, 0.1), t = (0, 60.00, 0.01))\n"
   ]
  },
  {
   "cell_type": "code",
   "execution_count": null,
   "metadata": {},
   "outputs": [],
   "source": []
  }
 ],
 "metadata": {
  "kernelspec": {
   "display_name": "Python 3 (ipykernel)",
   "language": "python",
   "name": "python3"
  },
  "language_info": {
   "codemirror_mode": {
    "name": "ipython",
    "version": 3
   },
   "file_extension": ".py",
   "mimetype": "text/x-python",
   "name": "python",
   "nbconvert_exporter": "python",
   "pygments_lexer": "ipython3",
   "version": "3.11.0"
  },
  "vscode": {
   "interpreter": {
    "hash": "4856cca04f5d76269cba933495eab3ba92c1df671ca5fc03ada123fc154ebc27"
   }
  }
 },
 "nbformat": 4,
 "nbformat_minor": 4
}
